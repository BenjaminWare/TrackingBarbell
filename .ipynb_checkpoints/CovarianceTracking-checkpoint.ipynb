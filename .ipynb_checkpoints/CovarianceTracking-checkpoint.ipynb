{
 "cells": [
  {
   "cell_type": "code",
   "execution_count": 1,
   "id": "cdeb4e54-488e-4d95-ab9d-aace6aade838",
   "metadata": {},
   "outputs": [],
   "source": [
    "from skimage import filters\n",
    "from skimage import io\n",
    "import numpy as np\n",
    "import matplotlib.pyplot as plt\n",
    "import matplotlib.patches as patches\n",
    "import math\n",
    "import scipy\n",
    "from scipy import ndimage"
   ]
  },
  {
   "cell_type": "code",
   "execution_count": 2,
   "id": "c0a7e797-5841-4d4c-89dc-fcfb0ecea67e",
   "metadata": {},
   "outputs": [],
   "source": [
    "# Reads in frames and bar template, TODO determine number of frames\n",
    "image_folder = 'deadlift1'\n",
    "bar_image = 'bar.png'\n",
    "num_frames = 72\n",
    "frames = np.array([io.imread(f'./{image_folder}/frame{i}.jpg') for i in range(0,num_frames)])\n",
    "bar_template = np.array(io.imread(f'./{image_folder}/{bar_image}'))"
   ]
  },
  {
   "cell_type": "code",
   "execution_count": 4,
   "id": "f31a67fb-5a58-44de-8b31-0d701168dfec",
   "metadata": {},
   "outputs": [],
   "source": [
    "#Removes opacity channel from template so both images are rgb\n",
    "bar_template = bar_template[:,:,0:3]"
   ]
  },
  {
   "cell_type": "code",
   "execution_count": 7,
   "id": "65f0a975-9b7a-4cf3-944b-73b479400db4",
   "metadata": {},
   "outputs": [],
   "source": [
    "def get_feature_vectors(im):\n",
    "    fks = np.zeros((len(im), len(im[0]), 5))\n",
    "    for i in range(len(im)):\n",
    "        for j in range(len(im[i])):\n",
    "            # flip i, j for x, y\n",
    "            fks[i, j] = [j, i, im[i][j][0], im[i][j][1], im[i][j][2]]\n",
    "    return fks"
   ]
  },
  {
   "cell_type": "code",
   "execution_count": 34,
   "id": "e6abea9f-20e9-4d13-beab-2342ca34660c",
   "metadata": {},
   "outputs": [],
   "source": [
    "def compute_C(window):\n",
    "    mu = np.mean(window, axis=(0,1))\n",
    "    C = np.zeros((5,5))\n",
    "    return np.tensordot((window - mu), np.transpose(window - mu, (1,0,2)), axes=([1,0],[0,1])) / (window.shape[0]*window.shape[1])\n"
   ]
  },
  {
   "cell_type": "code",
   "execution_count": null,
   "id": "6d5ac802-38dd-4862-855d-e2da376c362e",
   "metadata": {},
   "outputs": [],
   "source": [
    "def compute_match_distances(fks, window_size, model_cov_matrix):\n",
    "    match_dist = np.zeros((len(im)-window_size[0], len(im[0])-window_size[1]))\n",
    "\n",
    "    for i in range(len(im)-window_size[0]):\n",
    "        print(i)\n",
    "        for j in range(len(im[0])-window_size[1]):\n",
    "            candidate_C = \n",
    "            # wicked\n",
    "            rho = np.sum(np.log(scipy.linalg.eig(modelCovMatrix, C)[0])**2)**.5\n",
    "            match_dist[i,j] = rho\n",
    "    \n",
    "    match_dist"
   ]
  },
  {
   "cell_type": "code",
   "execution_count": 36,
   "id": "fb018d7e-6bca-46cd-bb7f-855a2a718a73",
   "metadata": {},
   "outputs": [],
   "source": [
    "model_C = compute_C(get_feature_vectors(bar_template))"
   ]
  },
  {
   "cell_type": "code",
   "execution_count": 38,
   "id": "32898790-cadc-4906-8e0e-0e0a6e613ff7",
   "metadata": {},
   "outputs": [
    {
     "data": {
      "text/plain": [
       "(185, 355, 3)"
      ]
     },
     "execution_count": 38,
     "metadata": {},
     "output_type": "execute_result"
    }
   ],
   "source": [
    "bar_template.shape"
   ]
  },
  {
   "cell_type": "code",
   "execution_count": null,
   "id": "0a5a6cbf-4842-42c5-a1bf-c730a42025c7",
   "metadata": {},
   "outputs": [],
   "source": []
  }
 ],
 "metadata": {
  "kernelspec": {
   "display_name": "Python 3 (ipykernel)",
   "language": "python",
   "name": "python3"
  },
  "language_info": {
   "codemirror_mode": {
    "name": "ipython",
    "version": 3
   },
   "file_extension": ".py",
   "mimetype": "text/x-python",
   "name": "python",
   "nbconvert_exporter": "python",
   "pygments_lexer": "ipython3",
   "version": "3.10.6"
  }
 },
 "nbformat": 4,
 "nbformat_minor": 5
}
