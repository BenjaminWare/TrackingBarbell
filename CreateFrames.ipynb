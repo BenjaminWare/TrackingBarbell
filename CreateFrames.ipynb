{
 "cells": [
  {
   "cell_type": "code",
   "execution_count": 4,
   "id": "84e7c508-891e-4932-a289-934289faaabe",
   "metadata": {
    "tags": []
   },
   "outputs": [
    {
     "name": "stdout",
     "output_type": "stream",
     "text": [
      "Collecting opencv-python\n",
      "  Obtaining dependency information for opencv-python from https://files.pythonhosted.org/packages/05/58/7ee92b21cb98689cbe28c69e3cf8ee51f261bfb6bc904ae578736d22d2e7/opencv_python-4.8.1.78-cp37-abi3-macosx_10_16_x86_64.whl.metadata\n",
      "  Downloading opencv_python-4.8.1.78-cp37-abi3-macosx_10_16_x86_64.whl.metadata (19 kB)\n",
      "Requirement already satisfied: numpy>=1.21.2 in /Users/benware/anaconda3/lib/python3.11/site-packages (from opencv-python) (1.24.3)\n",
      "Downloading opencv_python-4.8.1.78-cp37-abi3-macosx_10_16_x86_64.whl (54.7 MB)\n",
      "\u001b[2K   \u001b[90m━━━━━━━━━━━━━━━━━━━━━━━━━━━━━━━━━━━━━━━━\u001b[0m \u001b[32m54.7/54.7 MB\u001b[0m \u001b[31m33.6 MB/s\u001b[0m eta \u001b[36m0:00:00\u001b[0m00:01\u001b[0m00:01\u001b[0m\n",
      "\u001b[?25hInstalling collected packages: opencv-python\n",
      "Successfully installed opencv-python-4.8.1.78\n"
     ]
    }
   ],
   "source": [
    "!pip install opencv-python"
   ]
  },
  {
   "cell_type": "code",
   "execution_count": 1,
   "id": "b473f3f1-b85d-42c7-953a-bb0f66a0446b",
   "metadata": {
    "tags": []
   },
   "outputs": [],
   "source": [
    "#Requires !pip install opencv-python\n",
    "import cv2"
   ]
  },
  {
   "cell_type": "code",
   "execution_count": 2,
   "id": "731d0bce-17a0-43fd-a178-7188a29efe1b",
   "metadata": {
    "tags": []
   },
   "outputs": [],
   "source": [
    "\"\"\"\n",
    "    Converts a video file MOV or MP4 into frames, by providing the frame rate and desired frames per second data sizes can be significantly reduced\n",
    "    @out_folder - the folder to output into, may need to be created\n",
    "    @video_string - video file\n",
    "    @desired_frames_per_second - number of frames to create per second, set equal to frame_rate to get every frame\n",
    "    @frame_rate - the frame rate of the video provided, by default 30 which comes from iphone video recording \n",
    "\"\"\"\n",
    "def create_frames(out_folder,video_string,desired_frames_per_second, frame_rate=30):\n",
    "    vidcap = cv2.VideoCapture(video_string)\n",
    "    success,image = vidcap.read()\n",
    "    count = 0\n",
    "    frames_captured = 0\n",
    "    while success:\n",
    "        if count % (frame_rate // desired_frames_per_second)  == 0:\n",
    "          cv2.imwrite(f\"{out_folder}/frame{frames_captured}.jpg\", image)     # save frame as JPG file      \n",
    "          frames_captured += 1\n",
    "        success,image = vidcap.read()\n",
    "        count += 1"
   ]
  },
  {
   "cell_type": "code",
   "execution_count": 3,
   "id": "2098197b-6a4f-4d75-be85-e8166e086648",
   "metadata": {
    "tags": []
   },
   "outputs": [],
   "source": [
    "create_frames('deadlift3_10fps','deadlift3.MOV',10)"
   ]
  },
  {
   "cell_type": "code",
   "execution_count": null,
   "id": "680013fb-f835-4ffd-97f9-9f6086f3718c",
   "metadata": {},
   "outputs": [],
   "source": []
  }
 ],
 "metadata": {
  "kernelspec": {
   "display_name": "Python 3 (ipykernel)",
   "language": "python",
   "name": "python3"
  },
  "language_info": {
   "codemirror_mode": {
    "name": "ipython",
    "version": 3
   },
   "file_extension": ".py",
   "mimetype": "text/x-python",
   "name": "python",
   "nbconvert_exporter": "python",
   "pygments_lexer": "ipython3",
   "version": "3.11.4"
  }
 },
 "nbformat": 4,
 "nbformat_minor": 5
}
