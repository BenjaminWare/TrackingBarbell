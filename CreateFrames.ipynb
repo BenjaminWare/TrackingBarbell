{
 "cells": [
  {
   "cell_type": "code",
   "execution_count": 7,
   "id": "84e7c508-891e-4932-a289-934289faaabe",
   "metadata": {},
   "outputs": [
    {
     "name": "stdout",
     "output_type": "stream",
     "text": [
      "Collecting opencv-python\n",
      "  Obtaining dependency information for opencv-python from https://files.pythonhosted.org/packages/38/d2/3e8c13ffc37ca5ebc6f382b242b44acb43eb489042e1728407ac3904e72f/opencv_python-4.8.1.78-cp37-abi3-win_amd64.whl.metadata\n",
      "  Downloading opencv_python-4.8.1.78-cp37-abi3-win_amd64.whl.metadata (20 kB)\n",
      "Requirement already satisfied: numpy>=1.17.0 in c:\\users\\benwa\\appdata\\local\\programs\\python\\python39\\lib\\site-packages (from opencv-python) (1.24.1)\n",
      "Downloading opencv_python-4.8.1.78-cp37-abi3-win_amd64.whl (38.1 MB)\n",
      "   ---------------------------------------- 38.1/38.1 MB 2.6 MB/s eta 0:00:00\n",
      "Installing collected packages: opencv-python\n",
      "Successfully installed opencv-python-4.8.1.78\n"
     ]
    },
    {
     "name": "stderr",
     "output_type": "stream",
     "text": [
      "\n",
      "[notice] A new release of pip is available: 23.2.1 -> 23.3.1\n",
      "[notice] To update, run: python.exe -m pip install --upgrade pip\n"
     ]
    }
   ],
   "source": [
    "!pip install opencv-python"
   ]
  },
  {
   "cell_type": "code",
   "execution_count": 9,
   "id": "b473f3f1-b85d-42c7-953a-bb0f66a0446b",
   "metadata": {},
   "outputs": [],
   "source": [
    "#Requires !pip install opencv-python\n",
    "import cv2"
   ]
  },
  {
   "cell_type": "code",
   "execution_count": 25,
   "id": "731d0bce-17a0-43fd-a178-7188a29efe1b",
   "metadata": {},
   "outputs": [],
   "source": [
    "\"\"\"\n",
    "    Converts a video file MOV or MP4 into frames, by providing the frame rate and desired frames per second data sizes can be significantly reduced\n",
    "    @video_string - video file\n",
    "    @desired_frames_per_second - number of frames to create per second, set equal to frame_rate to get every frame\n",
    "    @frame_rate - the frame rate of the video provided, by default 30 which comes from iphone video recording \n",
    "\"\"\"\n",
    "def create_frames(video_string,desired_frames_per_second, frame_rate=30):\n",
    "    vidcap = cv2.VideoCapture('test.MOV')\n",
    "    success,image = vidcap.read()\n",
    "    count = 0\n",
    "    frames_captured = 0\n",
    "    while success:\n",
    "        if count % (frame_rate // desired_frames_per_second)  == 0:\n",
    "          cv2.imwrite(f\"data/frame{frames_captured}.jpg\", image)     # save frame as JPEG file      \n",
    "          frames_captured += 1\n",
    "        success,image = vidcap.read()\n",
    "        count += 1"
   ]
  },
  {
   "cell_type": "code",
   "execution_count": 29,
   "id": "2098197b-6a4f-4d75-be85-e8166e086648",
   "metadata": {},
   "outputs": [],
   "source": [
    "create_frames('test.MOV',10)"
   ]
  },
  {
   "cell_type": "code",
   "execution_count": null,
   "id": "680013fb-f835-4ffd-97f9-9f6086f3718c",
   "metadata": {},
   "outputs": [],
   "source": []
  }
 ],
 "metadata": {
  "kernelspec": {
   "display_name": "Python 3 (ipykernel)",
   "language": "python",
   "name": "python3"
  },
  "language_info": {
   "codemirror_mode": {
    "name": "ipython",
    "version": 3
   },
   "file_extension": ".py",
   "mimetype": "text/x-python",
   "name": "python",
   "nbconvert_exporter": "python",
   "pygments_lexer": "ipython3",
   "version": "3.9.1"
  }
 },
 "nbformat": 4,
 "nbformat_minor": 5
}
